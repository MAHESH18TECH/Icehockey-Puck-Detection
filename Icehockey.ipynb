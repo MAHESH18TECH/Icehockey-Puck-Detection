{
 "cells": [
  {
   "cell_type": "markdown",
   "id": "e9a5607d",
   "metadata": {},
   "source": [
    "# Code to detect the speed and the distance traveled by the puck throughout the video."
   ]
  },
  {
   "cell_type": "code",
   "execution_count": 2,
   "id": "4a69f3d1",
   "metadata": {},
   "outputs": [
    {
     "name": "stdout",
     "output_type": "stream",
     "text": [
      "loading Roboflow workspace...\n",
      "loading Roboflow project...\n",
      "Average Speed of the Puck: 0.15886426668315748 pixels per frame\n",
      "Overall Distance Travelled by the Puck: 144.248754148307 pixels\n"
     ]
    }
   ],
   "source": [
    "from roboflow import Roboflow\n",
    "import cv2\n",
    "import numpy as np\n",
    "\n",
    "# Replace \"your_api_key\" with your Roboflow API key\n",
    "# Initialize Roboflow client\n",
    "rf = Roboflow(api_key=\"XLIonB4LFouarhOUrUn5\")\n",
    "project = rf.workspace().project(\"icehockey\")\n",
    "model = project.version(1).model\n",
    "\n",
    "# Open a video capture\n",
    "cap = cv2.VideoCapture(r\"C:\\Users\\mahes\\Downloads\\Hockey Drills.mp4\")\n",
    "\n",
    "# Set the desired frame rate (30 frames per second)\n",
    "cap.set(cv2.CAP_PROP_FPS, 30)\n",
    "\n",
    "# Initialize variables for tracking speed and distance\n",
    "total_distance = 0\n",
    "start_frame = None\n",
    "prev_puck_center = None  # Initialize prev_puck_center\n",
    "\n",
    "while True:\n",
    "    # Read a frame from the video\n",
    "    ret, frame = cap.read()\n",
    "    if not ret:\n",
    "        break\n",
    "\n",
    "    # Make predictions using Roboflow model\n",
    "    result = model.predict(frame, confidence=50, overlap=0).json()\n",
    "\n",
    "    # Visualize prediction on the frame\n",
    "    for prediction in result[\"predictions\"]:\n",
    "        confidence = prediction.get(\"confidence\", 0.0)\n",
    "        x, y, w, h = prediction.get(\"xmin\", 0), prediction.get(\"ymin\", 0), prediction.get(\"width\", 0), prediction.get(\"height\", 0)\n",
    "\n",
    "        # Calculate puck center\n",
    "        puck_center = np.array([(x + x + w) / 2, (y + y + h) / 2])\n",
    "\n",
    "        # Update distance travelled\n",
    "        if start_frame is not None and prev_puck_center is not None:\n",
    "            total_distance += np.linalg.norm(puck_center - prev_puck_center)\n",
    "\n",
    "        # Save current puck center for the next iteration\n",
    "        prev_puck_center = puck_center\n",
    "\n",
    "    # Check if this is the first frame to set the start frame\n",
    "    if start_frame is None:\n",
    "        start_frame = cap.get(cv2.CAP_PROP_POS_FRAMES)\n",
    "\n",
    "# Calculate the average speed\n",
    "total_frames = cap.get(cv2.CAP_PROP_FRAME_COUNT)\n",
    "average_speed = total_distance / total_frames\n",
    "\n",
    "# Print the results\n",
    "print(f\"Average Speed of the Puck: {average_speed} pixels per frame\")\n",
    "print(f\"Overall Distance Travelled by the Puck: {total_distance} pixels\")\n",
    "\n",
    "# Release the video capture object\n",
    "cap.release()\n"
   ]
  },
  {
   "cell_type": "code",
   "execution_count": null,
   "id": "fe5d1fd0",
   "metadata": {},
   "outputs": [],
   "source": []
  }
 ],
 "metadata": {
  "kernelspec": {
   "display_name": "Python 3 (ipykernel)",
   "language": "python",
   "name": "python3"
  },
  "language_info": {
   "codemirror_mode": {
    "name": "ipython",
    "version": 3
   },
   "file_extension": ".py",
   "mimetype": "text/x-python",
   "name": "python",
   "nbconvert_exporter": "python",
   "pygments_lexer": "ipython3",
   "version": "3.9.12"
  }
 },
 "nbformat": 4,
 "nbformat_minor": 5
}
